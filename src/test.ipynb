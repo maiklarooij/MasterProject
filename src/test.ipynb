{
 "cells": [
  {
   "cell_type": "code",
   "execution_count": 8,
   "metadata": {},
   "outputs": [
    {
     "name": "stdout",
     "output_type": "stream",
     "text": [
      "Cosine Similarity: 0.0989\n"
     ]
    }
   ],
   "source": [
    "from sklearn.feature_extraction.text import TfidfVectorizer\n",
    "from sklearn.metrics.pairwise import cosine_similarity\n",
    "\n",
    "# Sample texts\n",
    "text1 = \"The news about the Darfur genocide is chilling. It blows my mind how global attention just fades away until disaster strikes. We should be on the lookout for this stuff and start caring again! People are suffering, and we can't just turn a blind eye no matter how far away it is.\"\n",
    "text2 = \"Hi there, I'm a 67-year-old delivery driver from Louisiana. After losing my wife, I've leaned more into my faith as an Evangelical Protestant while managing life's challenges on a limited income. I enjoy spending my free time fishing, gardening, and baking, and I like to catch up on Good Morning America to stay informed. I\\u2019m passionate about healthcare reform and voted for Joe Biden in 2020 because I believe in a better future for our country.\"\n",
    "\n",
    "# Convert texts to TF-IDF vectors\n",
    "vectorizer = TfidfVectorizer()\n",
    "tfidf_matrix = vectorizer.fit_transform([text1, text2])\n",
    "\n",
    "# Compute cosine similarity\n",
    "cos_sim = cosine_similarity(tfidf_matrix[0], tfidf_matrix[1])\n",
    "print(f\"Cosine Similarity: {cos_sim[0][0]:.4f}\")"
   ]
  },
  {
   "cell_type": "code",
   "execution_count": null,
   "metadata": {},
   "outputs": [],
   "source": []
  }
 ],
 "metadata": {
  "kernelspec": {
   "display_name": "Python 3",
   "language": "python",
   "name": "python3"
  },
  "language_info": {
   "codemirror_mode": {
    "name": "ipython",
    "version": 3
   },
   "file_extension": ".py",
   "mimetype": "text/x-python",
   "name": "python",
   "nbconvert_exporter": "python",
   "pygments_lexer": "ipython3",
   "version": "3.10.12"
  }
 },
 "nbformat": 4,
 "nbformat_minor": 2
}
